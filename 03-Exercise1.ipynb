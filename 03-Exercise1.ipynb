{
 "metadata": {
  "name": "",
  "signature": "sha256:4630501d2ce8864622969715581cc705e5a58197e9b54bf6ef15e46ec09ce0dc"
 },
 "nbformat": 3,
 "nbformat_minor": 0,
 "worksheets": [
  {
   "cells": [
    {
     "cell_type": "heading",
     "level": 1,
     "metadata": {},
     "source": [
      "Exercise 1 - Linear Regression"
     ]
    },
    {
     "cell_type": "markdown",
     "metadata": {},
     "source": [
      "This notebook covers a Python-based solution for the first programming exercise of the machine learning class on Coursera."
     ]
    },
    {
     "cell_type": "code",
     "collapsed": false,
     "input": [],
     "language": "python",
     "metadata": {},
     "outputs": []
    }
   ],
   "metadata": {}
  }
 ]
}