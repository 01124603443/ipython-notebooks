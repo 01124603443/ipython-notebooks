{
 "metadata": {
  "name": "",
  "signature": "sha256:dcb98eb041d7a3e77520c54a950e4de5d6b64db0cb3e5b0500383eef488ce862"
 },
 "nbformat": 3,
 "nbformat_minor": 0,
 "worksheets": [
  {
   "cells": [
    {
     "cell_type": "heading",
     "level": 1,
     "metadata": {},
     "source": [
      "Exercise 1 - Linear Regression"
     ]
    },
    {
     "cell_type": "markdown",
     "metadata": {},
     "source": [
      "This notebook covers a Python-based solution for the first programming exercise of the machine learning class on Coursera."
     ]
    },
    {
     "cell_type": "heading",
     "level": 2,
     "metadata": {},
     "source": [
      "Part 1"
     ]
    },
    {
     "cell_type": "markdown",
     "metadata": {},
     "source": [
      "In the first part of the exercise, we're tasked with implementing linear regression with one variable to predict profits for a food truck. Suppose you are the CEO of a restaurant franchise and are considering different cities for opening a new outlet. The chain already has trucks in various cities and you have data for profits and populations from the cities."
     ]
    },
    {
     "cell_type": "markdown",
     "metadata": {},
     "source": [
      "Let's start by importing some libraries and examining the data."
     ]
    },
    {
     "cell_type": "code",
     "collapsed": false,
     "input": [
      "import numpy as np\n",
      "import scipy as sp\n",
      "import pandas as pd\n",
      "import sklearn as skl\n",
      "import matplotlib.pyplot as plt\n",
      "%matplotlib inline"
     ],
     "language": "python",
     "metadata": {},
     "outputs": [],
     "prompt_number": 1
    },
    {
     "cell_type": "code",
     "collapsed": false,
     "input": [
      "import os\n",
      "path = os.getcwd() + '\\data\\ex1data1.txt'\n",
      "ex1data1 = pd.read_csv(path, header=None, names=['Population', 'Profit'])\n",
      "ex1data1.head()"
     ],
     "language": "python",
     "metadata": {},
     "outputs": [
      {
       "html": [
        "<div style=\"max-height:1000px;max-width:1500px;overflow:auto;\">\n",
        "<table border=\"1\" class=\"dataframe\">\n",
        "  <thead>\n",
        "    <tr style=\"text-align: right;\">\n",
        "      <th></th>\n",
        "      <th>Population</th>\n",
        "      <th>Profit</th>\n",
        "    </tr>\n",
        "  </thead>\n",
        "  <tbody>\n",
        "    <tr>\n",
        "      <th>0</th>\n",
        "      <td> 6.1101</td>\n",
        "      <td> 17.5920</td>\n",
        "    </tr>\n",
        "    <tr>\n",
        "      <th>1</th>\n",
        "      <td> 5.5277</td>\n",
        "      <td>  9.1302</td>\n",
        "    </tr>\n",
        "    <tr>\n",
        "      <th>2</th>\n",
        "      <td> 8.5186</td>\n",
        "      <td> 13.6620</td>\n",
        "    </tr>\n",
        "    <tr>\n",
        "      <th>3</th>\n",
        "      <td> 7.0032</td>\n",
        "      <td> 11.8540</td>\n",
        "    </tr>\n",
        "    <tr>\n",
        "      <th>4</th>\n",
        "      <td> 5.8598</td>\n",
        "      <td>  6.8233</td>\n",
        "    </tr>\n",
        "  </tbody>\n",
        "</table>\n",
        "</div>"
       ],
       "metadata": {},
       "output_type": "pyout",
       "prompt_number": 2,
       "text": [
        "   Population   Profit\n",
        "0      6.1101  17.5920\n",
        "1      5.5277   9.1302\n",
        "2      8.5186  13.6620\n",
        "3      7.0032  11.8540\n",
        "4      5.8598   6.8233"
       ]
      }
     ],
     "prompt_number": 2
    },
    {
     "cell_type": "code",
     "collapsed": false,
     "input": [
      "ex1data1.describe()"
     ],
     "language": "python",
     "metadata": {},
     "outputs": [
      {
       "html": [
        "<div style=\"max-height:1000px;max-width:1500px;overflow:auto;\">\n",
        "<table border=\"1\" class=\"dataframe\">\n",
        "  <thead>\n",
        "    <tr style=\"text-align: right;\">\n",
        "      <th></th>\n",
        "      <th>Population</th>\n",
        "      <th>Profit</th>\n",
        "    </tr>\n",
        "  </thead>\n",
        "  <tbody>\n",
        "    <tr>\n",
        "      <th>count</th>\n",
        "      <td> 97.000000</td>\n",
        "      <td> 97.000000</td>\n",
        "    </tr>\n",
        "    <tr>\n",
        "      <th>mean</th>\n",
        "      <td>  8.159800</td>\n",
        "      <td>  5.839135</td>\n",
        "    </tr>\n",
        "    <tr>\n",
        "      <th>std</th>\n",
        "      <td>  3.869884</td>\n",
        "      <td>  5.510262</td>\n",
        "    </tr>\n",
        "    <tr>\n",
        "      <th>min</th>\n",
        "      <td>  5.026900</td>\n",
        "      <td> -2.680700</td>\n",
        "    </tr>\n",
        "    <tr>\n",
        "      <th>25%</th>\n",
        "      <td>  5.707700</td>\n",
        "      <td>  1.986900</td>\n",
        "    </tr>\n",
        "    <tr>\n",
        "      <th>50%</th>\n",
        "      <td>  6.589400</td>\n",
        "      <td>  4.562300</td>\n",
        "    </tr>\n",
        "    <tr>\n",
        "      <th>75%</th>\n",
        "      <td>  8.578100</td>\n",
        "      <td>  7.046700</td>\n",
        "    </tr>\n",
        "    <tr>\n",
        "      <th>max</th>\n",
        "      <td> 22.203000</td>\n",
        "      <td> 24.147000</td>\n",
        "    </tr>\n",
        "  </tbody>\n",
        "</table>\n",
        "</div>"
       ],
       "metadata": {},
       "output_type": "pyout",
       "prompt_number": 3,
       "text": [
        "       Population     Profit\n",
        "count   97.000000  97.000000\n",
        "mean     8.159800   5.839135\n",
        "std      3.869884   5.510262\n",
        "min      5.026900  -2.680700\n",
        "25%      5.707700   1.986900\n",
        "50%      6.589400   4.562300\n",
        "75%      8.578100   7.046700\n",
        "max     22.203000  24.147000"
       ]
      }
     ],
     "prompt_number": 3
    },
    {
     "cell_type": "markdown",
     "metadata": {},
     "source": [
      "Let's plot it to get a better idea of what the data looks like."
     ]
    },
    {
     "cell_type": "code",
     "collapsed": false,
     "input": [
      "ex1data1.plot(kind='scatter', x='Population', y='Profit')"
     ],
     "language": "python",
     "metadata": {},
     "outputs": [
      {
       "metadata": {},
       "output_type": "pyout",
       "prompt_number": 4,
       "text": [
        "<matplotlib.axes.AxesSubplot at 0xdd48438>"
       ]
      },
      {
       "metadata": {},
       "output_type": "display_data",
       "png": "[encoded data removed]",
       "text": [
        "<matplotlib.figure.Figure at 0xcf0ca90>"
       ]
      }
     ],
     "prompt_number": 4
    },
    {
     "cell_type": "markdown",
     "metadata": {},
     "source": [
      "Now let's implement linear regression using gradient descent to minimize the cost function.  The equations implemented in the following code samples are detailed in \"ex1.pdf\" in the \"exercises\" folder."
     ]
    },
    {
     "cell_type": "markdown",
     "metadata": {},
     "source": [
      "First we'll create a function to compute the cost of a given solution (characterized by the parameters theta)."
     ]
    },
    {
     "cell_type": "code",
     "collapsed": false,
     "input": [
      "def computeCost(X, y, theta):\n",
      "    inner = np.power(((X * theta.T) - y), 2)\n",
      "    return np.sum(inner) / (2 * len(X))"
     ],
     "language": "python",
     "metadata": {},
     "outputs": [],
     "prompt_number": 5
    },
    {
     "cell_type": "markdown",
     "metadata": {},
     "source": [
      "Let's add a column of ones to the training set so we can use a vectorized solution to computing the cost and gradients."
     ]
    },
    {
     "cell_type": "code",
     "collapsed": false,
     "input": [
      "ex1data1.insert(0, 'Ones', 1)"
     ],
     "language": "python",
     "metadata": {},
     "outputs": [],
     "prompt_number": 6
    },
    {
     "cell_type": "markdown",
     "metadata": {},
     "source": [
      "Now let's do some variable initialization."
     ]
    },
    {
     "cell_type": "code",
     "collapsed": false,
     "input": [
      "# set X (training data) and y (target variable)\n",
      "cols = ex1data1.shape[1]\n",
      "X = ex1data1.iloc[:,0:cols-1]\n",
      "y = ex1data1.iloc[:,cols-1:cols]"
     ],
     "language": "python",
     "metadata": {},
     "outputs": [],
     "prompt_number": 7
    },
    {
     "cell_type": "markdown",
     "metadata": {},
     "source": [
      "Let's take a look to make sure X (training set) and y (target variable) look correct."
     ]
    },
    {
     "cell_type": "code",
     "collapsed": false,
     "input": [
      "X.head()"
     ],
     "language": "python",
     "metadata": {},
     "outputs": [
      {
       "html": [
        "<div style=\"max-height:1000px;max-width:1500px;overflow:auto;\">\n",
        "<table border=\"1\" class=\"dataframe\">\n",
        "  <thead>\n",
        "    <tr style=\"text-align: right;\">\n",
        "      <th></th>\n",
        "      <th>Ones</th>\n",
        "      <th>Population</th>\n",
        "    </tr>\n",
        "  </thead>\n",
        "  <tbody>\n",
        "    <tr>\n",
        "      <th>0</th>\n",
        "      <td> 1</td>\n",
        "      <td> 6.1101</td>\n",
        "    </tr>\n",
        "    <tr>\n",
        "      <th>1</th>\n",
        "      <td> 1</td>\n",
        "      <td> 5.5277</td>\n",
        "    </tr>\n",
        "    <tr>\n",
        "      <th>2</th>\n",
        "      <td> 1</td>\n",
        "      <td> 8.5186</td>\n",
        "    </tr>\n",
        "    <tr>\n",
        "      <th>3</th>\n",
        "      <td> 1</td>\n",
        "      <td> 7.0032</td>\n",
        "    </tr>\n",
        "    <tr>\n",
        "      <th>4</th>\n",
        "      <td> 1</td>\n",
        "      <td> 5.8598</td>\n",
        "    </tr>\n",
        "  </tbody>\n",
        "</table>\n",
        "</div>"
       ],
       "metadata": {},
       "output_type": "pyout",
       "prompt_number": 8,
       "text": [
        "   Ones  Population\n",
        "0     1      6.1101\n",
        "1     1      5.5277\n",
        "2     1      8.5186\n",
        "3     1      7.0032\n",
        "4     1      5.8598"
       ]
      }
     ],
     "prompt_number": 8
    },
    {
     "cell_type": "code",
     "collapsed": false,
     "input": [
      "y.head()"
     ],
     "language": "python",
     "metadata": {},
     "outputs": [
      {
       "html": [
        "<div style=\"max-height:1000px;max-width:1500px;overflow:auto;\">\n",
        "<table border=\"1\" class=\"dataframe\">\n",
        "  <thead>\n",
        "    <tr style=\"text-align: right;\">\n",
        "      <th></th>\n",
        "      <th>Profit</th>\n",
        "    </tr>\n",
        "  </thead>\n",
        "  <tbody>\n",
        "    <tr>\n",
        "      <th>0</th>\n",
        "      <td> 17.5920</td>\n",
        "    </tr>\n",
        "    <tr>\n",
        "      <th>1</th>\n",
        "      <td>  9.1302</td>\n",
        "    </tr>\n",
        "    <tr>\n",
        "      <th>2</th>\n",
        "      <td> 13.6620</td>\n",
        "    </tr>\n",
        "    <tr>\n",
        "      <th>3</th>\n",
        "      <td> 11.8540</td>\n",
        "    </tr>\n",
        "    <tr>\n",
        "      <th>4</th>\n",
        "      <td>  6.8233</td>\n",
        "    </tr>\n",
        "  </tbody>\n",
        "</table>\n",
        "</div>"
       ],
       "metadata": {},
       "output_type": "pyout",
       "prompt_number": 9,
       "text": [
        "    Profit\n",
        "0  17.5920\n",
        "1   9.1302\n",
        "2  13.6620\n",
        "3  11.8540\n",
        "4   6.8233"
       ]
      }
     ],
     "prompt_number": 9
    },
    {
     "cell_type": "markdown",
     "metadata": {},
     "source": [
      "The cost function is expecting numpy matrices so we need to convert X and y before we can use them.  We also need to initialize theta."
     ]
    },
    {
     "cell_type": "code",
     "collapsed": false,
     "input": [
      "X = np.matrix(X.values)\n",
      "y = np.matrix(y.values)\n",
      "theta = np.matrix(np.array([0,0]))"
     ],
     "language": "python",
     "metadata": {},
     "outputs": [],
     "prompt_number": 10
    },
    {
     "cell_type": "markdown",
     "metadata": {},
     "source": [
      "Here's what theta looks like."
     ]
    },
    {
     "cell_type": "code",
     "collapsed": false,
     "input": [
      "theta"
     ],
     "language": "python",
     "metadata": {},
     "outputs": [
      {
       "metadata": {},
       "output_type": "pyout",
       "prompt_number": 11,
       "text": [
        "matrix([[0, 0]])"
       ]
      }
     ],
     "prompt_number": 11
    },
    {
     "cell_type": "markdown",
     "metadata": {},
     "source": [
      "Let's take a quick look at the shape of our matrices."
     ]
    },
    {
     "cell_type": "code",
     "collapsed": false,
     "input": [
      "X.shape, theta.shape, y.shape"
     ],
     "language": "python",
     "metadata": {},
     "outputs": [
      {
       "metadata": {},
       "output_type": "pyout",
       "prompt_number": 12,
       "text": [
        "((97L, 2L), (1L, 2L), (97L, 1L))"
       ]
      }
     ],
     "prompt_number": 12
    },
    {
     "cell_type": "markdown",
     "metadata": {},
     "source": [
      "Now let's compute the cost for our initial solution (0 values for theta)."
     ]
    },
    {
     "cell_type": "code",
     "collapsed": false,
     "input": [
      "computeCost(X, y, theta)"
     ],
     "language": "python",
     "metadata": {},
     "outputs": [
      {
       "metadata": {},
       "output_type": "pyout",
       "prompt_number": 13,
       "text": [
        "32.072733877455654"
       ]
      }
     ],
     "prompt_number": 13
    },
    {
     "cell_type": "markdown",
     "metadata": {},
     "source": [
      "Looks good!  Now we need to define a function to perform gradient descent on the parameters theta using the update rules defined in the text."
     ]
    },
    {
     "cell_type": "code",
     "collapsed": false,
     "input": [
      "def gradientDescent(X, y, theta, alpha, iters):\n",
      "    temp = np.matrix(np.zeros(theta.shape))\n",
      "    \n",
      "    for x in range(iters):\n",
      "        for i in range(int(theta.shape[1])):\n",
      "            inner = np.multiply(((X * theta.T) - y), X[:,1])\n",
      "            temp[0,i] = theta[0,i] - (alpha / len(X)) * np.sum(inner)\n",
      "            \n",
      "        theta = temp\n",
      "        \n",
      "    return theta"
     ],
     "language": "python",
     "metadata": {},
     "outputs": [],
     "prompt_number": 14
    },
    {
     "cell_type": "markdown",
     "metadata": {},
     "source": [
      "Initialize some additional variables - the learning rate alpha, and the number of iterations to perform."
     ]
    },
    {
     "cell_type": "code",
     "collapsed": false,
     "input": [
      "alpha = 0.01\n",
      "iters = 400"
     ],
     "language": "python",
     "metadata": {},
     "outputs": [],
     "prompt_number": 15
    },
    {
     "cell_type": "markdown",
     "metadata": {},
     "source": [
      "Now let's run the gradient descent algorithm to fit our parameters theta to the training set."
     ]
    },
    {
     "cell_type": "code",
     "collapsed": false,
     "input": [
      "g = gradientDescent(X, y, theta, alpha, iters)\n",
      "g"
     ],
     "language": "python",
     "metadata": {},
     "outputs": [
      {
       "metadata": {},
       "output_type": "pyout",
       "prompt_number": 16,
       "text": [
        "matrix([[ 0.73550963,  0.72880055]])"
       ]
      }
     ],
     "prompt_number": 16
    },
    {
     "cell_type": "markdown",
     "metadata": {},
     "source": [
      "Finally we can compute the cost using our fitted parameters."
     ]
    },
    {
     "cell_type": "code",
     "collapsed": false,
     "input": [
      "computeCost(X, y, g)"
     ],
     "language": "python",
     "metadata": {},
     "outputs": [
      {
       "metadata": {},
       "output_type": "pyout",
       "prompt_number": 17,
       "text": [
        "6.4296190968086782"
       ]
      }
     ],
     "prompt_number": 17
    }
   ],
   "metadata": {}
  }
 ]
}