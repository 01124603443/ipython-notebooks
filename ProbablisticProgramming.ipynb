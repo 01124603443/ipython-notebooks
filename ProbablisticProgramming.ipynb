{
 "cells": [
  {
   "cell_type": "markdown",
   "metadata": {},
   "source": [
    "# An Intro To Probablistic Programming"
   ]
  },
  {
   "cell_type": "markdown",
   "metadata": {},
   "source": [
    "Probablistic programming is an expressive and flexible way to build Bayesian statistical models in code.  It's an entirely different mode of programming that involves using non-deterministic variables defined using probability distributions instead of concrete values.  Probablistic programming is gaining significant traction as a paradigm for building next-generation intelligent systems.  In this notebook we'll apply bayesian methods to solve a few simple problems to illustrate the power probablistic programming.  For this exercise we'll be using PyMC3.\n",
    "\n",
    "(NOTE: This notebook is partially adapted from the PyMC3 \"Getting Started\" tutorial at https://pymc-devs.github.io/pymc3/getting_started/. PyMC3 is currently considered beta software and should be treated as such.)"
   ]
  },
  {
   "cell_type": "markdown",
   "metadata": {},
   "source": [
    "For our first exercise we're going to implement multiple linear regression using a very simple two-variable dataset that I'm borrowing from an exercise I did for a machine learning course.  Let's load up and visualize the data."
   ]
  },
  {
   "cell_type": "code",
   "execution_count": 3,
   "metadata": {
    "collapsed": false
   },
   "outputs": [
    {
     "data": {
      "text/html": [
       "<div style=\"max-height:1000px;max-width:1500px;overflow:auto;\">\n",
       "<table border=\"1\" class=\"dataframe\">\n",
       "  <thead>\n",
       "    <tr style=\"text-align: right;\">\n",
       "      <th></th>\n",
       "      <th>Size</th>\n",
       "      <th>Bedrooms</th>\n",
       "      <th>Price</th>\n",
       "    </tr>\n",
       "  </thead>\n",
       "  <tbody>\n",
       "    <tr>\n",
       "      <th>0</th>\n",
       "      <td> 2104</td>\n",
       "      <td> 3</td>\n",
       "      <td> 399900</td>\n",
       "    </tr>\n",
       "    <tr>\n",
       "      <th>1</th>\n",
       "      <td> 1600</td>\n",
       "      <td> 3</td>\n",
       "      <td> 329900</td>\n",
       "    </tr>\n",
       "    <tr>\n",
       "      <th>2</th>\n",
       "      <td> 2400</td>\n",
       "      <td> 3</td>\n",
       "      <td> 369000</td>\n",
       "    </tr>\n",
       "    <tr>\n",
       "      <th>3</th>\n",
       "      <td> 1416</td>\n",
       "      <td> 2</td>\n",
       "      <td> 232000</td>\n",
       "    </tr>\n",
       "    <tr>\n",
       "      <th>4</th>\n",
       "      <td> 3000</td>\n",
       "      <td> 4</td>\n",
       "      <td> 539900</td>\n",
       "    </tr>\n",
       "  </tbody>\n",
       "</table>\n",
       "</div>"
      ],
      "text/plain": [
       "   Size  Bedrooms   Price\n",
       "0  2104         3  399900\n",
       "1  1600         3  329900\n",
       "2  2400         3  369000\n",
       "3  1416         2  232000\n",
       "4  3000         4  539900"
      ]
     },
     "execution_count": 3,
     "metadata": {},
     "output_type": "execute_result"
    }
   ],
   "source": [
    "import os\n",
    "import numpy as np\n",
    "import pandas as pd\n",
    "import matplotlib.pyplot as plt\n",
    "%matplotlib inline\n",
    "\n",
    "path = os.getcwd() + '\\data\\ex1data2.txt'\n",
    "data = pd.read_csv(path, header=None, names=['Size', 'Bedrooms', 'Price'])\n",
    "data.head()"
   ]
  },
  {
   "cell_type": "code",
   "execution_count": 4,
   "metadata": {
    "collapsed": false
   },
   "outputs": [
    {
     "data": {
      "text/plain": [
       "<matplotlib.text.Text at 0xcf56630>"
      ]
     },
     "execution_count": 4,
     "metadata": {},
     "output_type": "execute_result"
    },
    {
     "data": {
      "image/png": "[encoded data removed]",
      "text/plain": [
       "<matplotlib.figure.Figure at 0xce2eef0>"
      ]
     },
     "metadata": {},
     "output_type": "display_data"
    }
   ],
   "source": [
    "fig, ax = plt.subplots(1, 2, figsize=(15,6))\n",
    "ax[0].scatter(data.Size, data.Price)\n",
    "ax[1].scatter(data.Bedrooms, data.Price)\n",
    "ax[0].set_ylabel('Price')\n",
    "ax[0].set_xlabel('Size')\n",
    "ax[1].set_xlabel('Bedrooms')"
   ]
  },
  {
   "cell_type": "markdown",
   "metadata": {},
   "source": [
    "We also need a baseline technique to compare to the bayesian approach so we have an idea of how well it's performing.  For that we'll load up scikit-learn's linear regression module.  We'll use squared error to evaluate the performance (ignoring for now things like standardization, cross-validation, etc.)"
   ]
  },
  {
   "cell_type": "code",
   "execution_count": 13,
   "metadata": {
    "collapsed": false
   },
   "outputs": [
    {
     "data": {
      "text/plain": [
       "192068324756.66589"
      ]
     },
     "execution_count": 13,
     "metadata": {},
     "output_type": "execute_result"
    }
   ],
   "source": [
    "from sklearn import linear_model\n",
    "model = linear_model.LinearRegression()\n",
    "X = data[['Size', 'Bedrooms']].values\n",
    "y = data['Price'].values\n",
    "model.fit(X, y)\n",
    "y_pred = model.predict(X)\n",
    "squared_error = ((y - y_pred) ** 2).sum()\n",
    "squared_error"
   ]
  },
  {
   "cell_type": "markdown",
   "metadata": {},
   "source": [
    "For fun let's see what parameters it came up with too.  We can also compare these later on."
   ]
  },
  {
   "cell_type": "code",
   "execution_count": 14,
   "metadata": {
    "collapsed": false
   },
   "outputs": [
    {
     "data": {
      "text/plain": [
       "(89597.909542797395, array([  139.21067402, -8738.01911233]))"
      ]
     },
     "execution_count": 14,
     "metadata": {},
     "output_type": "execute_result"
    }
   ],
   "source": [
    "model.intercept_, model.coef_"
   ]
  },
  {
   "cell_type": "markdown",
   "metadata": {},
   "source": [
    "Okay, now we're ready to proceed.  In order to define our model in PyMC3, we need to frame the problem in bayesian terms.  This is no small task for a beginner in bayesian statistics and takes some getting used to.  In the case of linear regression, we're interested in predicting outcomes Y as normally-distributed observations with an expected value μ that is a linear function of two predictor variables, X1 and X2.  Using this model, μ is our expected value, alpha is our intercept, beta is an array of coefficients, and sigma represents the observation error.  Since these are all unknown, non-deterministic variables, we need to specify a prior to instantiate them.  We'll use normal distributions with a mean of zero."
   ]
  },
  {
   "cell_type": "code",
   "execution_count": null,
   "metadata": {
    "collapsed": true
   },
   "outputs": [],
   "source": [
    "from pymc3 import Model, Normal, HalfNormal\n",
    "\n",
    "regression_model = Model()\n",
    "with regression_model:\n",
    "    # priors for unknown model parameters\n",
    "    alpha = Normal('alpha', mu=0, sd=10)\n",
    "    beta = Normal('beta', mu=0, sd=10, shape=2)\n",
    "    sigma = HalfNormal('sigma', sd=1)\n",
    "\n",
    "    # expected value of outcome\n",
    "    mu = alpha + beta[0] * X[:, 0] + beta[1] * X[:, 1]\n",
    "\n",
    "    # likelihood (sampling distribution) of observations\n",
    "    y_obs = Normal('y_obs', mu=mu, sd=sigma, observed=y)"
   ]
  },
  {
   "cell_type": "markdown",
   "metadata": {},
   "source": [
    "Note that each variable is either declared with a prior representing the distribution of that variable, or (in the case of μ) is a deterministic outcome of other stochastic variables.  Also of note is the y_obs variable, which is a special type of \"observed\" variable that represents the data likelihood of the model.  Finally, observe that we're mixing PyMC variables with the variables holding the data.  PyMC's models are very expressive and we could use a variety of mathematical functions to define our variables.\n",
    "\n",
    "Now that we've specified our model, we need to obtain posterior estimates for the unknown variables in the model.  There are two techniques we can leverage for this and they can be used to complement each other.  The first thing we're going to do is find the <b>Maximum A Priori Estimate (MAP)</b> for the model.  The MAP is a point estimate for the model parameters obtained using numerical optimization methods."
   ]
  },
  {
   "cell_type": "code",
   "execution_count": null,
   "metadata": {
    "collapsed": true
   },
   "outputs": [],
   "source": [
    "from pymc3 import find_MAP\n",
    "from scipy import optimize\n",
    "\n",
    "map_estimate = find_MAP(model=regression_model, fmin=optimize.fmin_powell)\n",
    "print(map_estimate)"
   ]
  },
  {
   "cell_type": "markdown",
   "metadata": {},
   "source": [
    "In this case we're overriding the default optimization algorithm (BFGS) and specifying our own, but we could have left it as the default too.  Any optimization algorithm that minimizes the loss on the objective function should work.\n",
    "\n",
    "Finding the MAP is a good starting point but it's not necessarily the best answer we can find.  To do that, we need to use a simulation-based approach such as Markov Chain Monte Carlo (MCMC).  PyMC3 implements a variety of MCMC sampling algorithms including the No-U-Turn Sampler (NUTS), which is especially good for models that have many continuous variables because it uses gradient-based techniques to converge much faster than traditional sampling algorithms.\n",
    "\n",
    "Let's use the MAP as a starting point and sample the posterior distribution 1000 times using MCMC."
   ]
  },
  {
   "cell_type": "code",
   "execution_count": null,
   "metadata": {
    "collapsed": true
   },
   "outputs": [],
   "source": [
    "from pymc3 import NUTS, sample\n",
    "\n",
    "with regression_model:\n",
    "    # obtain starting values via MAP\n",
    "    start = find_MAP(fmin=optimize.fmin_powell)\n",
    "\n",
    "    # instantiate sampler\n",
    "    step = NUTS(scaling=start)\n",
    "\n",
    "    # draw posterior samples\n",
    "    trace = sample(1000, step, start=start)"
   ]
  },
  {
   "cell_type": "markdown",
   "metadata": {},
   "source": [
    "We can examine the trace object directly to see the sampled values for each of the variables in the model."
   ]
  },
  {
   "cell_type": "code",
   "execution_count": null,
   "metadata": {
    "collapsed": true
   },
   "outputs": [],
   "source": [
    "trace['alpha'][-5:]"
   ]
  },
  {
   "cell_type": "markdown",
   "metadata": {},
   "source": [
    "Although the flexibility to inspect the values directly is useful, PyMC3 provides plotting and summarization functions for inspecting the sampling output that tell us much more at a glance. A simple posterior plot can be created using traceplot."
   ]
  },
  {
   "cell_type": "code",
   "execution_count": null,
   "metadata": {
    "collapsed": true
   },
   "outputs": [],
   "source": [
    "from pymc3 import traceplot\n",
    "traceplot(trace)"
   ]
  },
  {
   "cell_type": "markdown",
   "metadata": {},
   "source": [
    "There's also a text-based output available using the summary function."
   ]
  },
  {
   "cell_type": "code",
   "execution_count": null,
   "metadata": {
    "collapsed": true
   },
   "outputs": [],
   "source": [
    "from pymc3 import summary\n",
    "summary(trace)"
   ]
  },
  {
   "cell_type": "markdown",
   "metadata": {},
   "source": [
    "So we now have posterior distributions for each of our model parameters, but what do we do with them?  Remember our original task was to find a model that minimizes the squared error of the training data.  We've created a probablistic model of the parameters in the linear regression model, but we need to use point values to calculate the squared error.  The most straightforward approach would be to use the mean, or expected value, of the parameters and plug those into the linear regression equation.  Let's try that."
   ]
  },
  {
   "cell_type": "code",
   "execution_count": 26,
   "metadata": {
    "collapsed": false
   },
   "outputs": [
    {
     "data": {
      "text/plain": [
       "11881156482711885"
      ]
     },
     "execution_count": 26,
     "metadata": {},
     "output_type": "execute_result"
    }
   ],
   "source": [
    "# so we can use vector math to compute the predictions at once\n",
    "data.insert(0, 'Ones', 1)\n",
    "\n",
    "X = np.matrix(data.iloc[:, 0:3].values)\n",
    "params = np.matrix([1, 1, 1])\n",
    "y_pred = X * params.T\n",
    "\n",
    "bayes_squared_error = ((y - y_pred) ** 2).sum()\n",
    "bayes_squared_error"
   ]
  },
  {
   "cell_type": "markdown",
   "metadata": {},
   "source": [
    "TODO - discussion results"
   ]
  },
  {
   "cell_type": "markdown",
   "metadata": {},
   "source": [
    "Since linear models are pretty common, PyMC3 also has a GLM module that makes specifying models in this format much easier.  It uses patsy to define model equations as a string (similar to R-style formulas) and creates the necessary variables underneath."
   ]
  },
  {
   "cell_type": "code",
   "execution_count": null,
   "metadata": {
    "collapsed": true
   },
   "outputs": [],
   "source": [
    "from pymc3 import glm\n",
    "\n",
    "with Model() as model:\n",
    "    glm.glm('Price ~ Size + Bedrooms', data)\n",
    "    start = find_MAP()\n",
    "    step = NUTS(scaling=start)\n",
    "    trace = sample(1000, step, start=start)"
   ]
  },
  {
   "cell_type": "markdown",
   "metadata": {},
   "source": [
    "The end result should look pretty similar to the trace that we obtained from the first example."
   ]
  },
  {
   "cell_type": "code",
   "execution_count": null,
   "metadata": {
    "collapsed": true
   },
   "outputs": [],
   "source": [
    "traceplot(trace)"
   ]
  },
  {
   "cell_type": "markdown",
   "metadata": {},
   "source": [
    "So that's what bayesian inference looks like when applied to multiple linear regression.  At this point it's worth asking - how would one use this in the broader picture, especially on non-trivial problems?  For someone interested primarily in machine learning applications (vs. scientific analysis), where does this fit in the toolbox?  These are questions that I'm still figuring out.  I think the real power of bayesian modeling comes from incorporating domain knowledge into graphical models such as what Daphne Koller teaches in her <a href=\"https://www.coursera.org/course/pgm\">Probablistic Graphical Models</a> class.  I hope to explore this further in a future notebook and attempt to apply it to a real machine learning problem."
   ]
  }
 ],
 "metadata": {
  "kernelspec": {
   "display_name": "Python 2",
   "language": "python",
   "name": "python2"
  },
  "language_info": {
   "codemirror_mode": {
    "name": "ipython",
    "version": 2
   },
   "file_extension": ".py",
   "mimetype": "text/x-python",
   "name": "python",
   "nbconvert_exporter": "python",
   "pygments_lexer": "ipython2",
   "version": "2.7.9"
  }
 },
 "nbformat": 4,
 "nbformat_minor": 0
}
