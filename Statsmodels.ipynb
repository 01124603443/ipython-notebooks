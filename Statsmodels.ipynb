{
 "metadata": {
  "name": "",
  "signature": "sha256:9d92688f5e6821e7233f04cf70c18344cd5c958c8cde264306a3a391a7cc28e4"
 },
 "nbformat": 3,
 "nbformat_minor": 0,
 "worksheets": [
  {
   "cells": [
    {
     "cell_type": "heading",
     "level": 1,
     "metadata": {},
     "source": [
      "Statsmodels"
     ]
    },
    {
     "cell_type": "markdown",
     "metadata": {},
     "source": [
      "Statsmodels is a Python module that allows users to explore data, estimate statistical models, and perform statistical tests. An extensive list of descriptive statistics, statistical tests, plotting functions, and result statistics are available for different types of data and each estimator."
     ]
    },
    {
     "cell_type": "heading",
     "level": 3,
     "metadata": {},
     "source": [
      "Linear Regression Models"
     ]
    },
    {
     "cell_type": "code",
     "collapsed": false,
     "input": [
      "# needed to display the graphs\n",
      "%matplotlib inline\n",
      "from pylab import *"
     ],
     "language": "python",
     "metadata": {},
     "outputs": [],
     "prompt_number": 1
    },
    {
     "cell_type": "code",
     "collapsed": false,
     "input": [
      "import numpy as np\n",
      "import pandas as pd\n",
      "import statsmodels.api as sm\n",
      "from statsmodels.sandbox.regression.predstd import wls_prediction_std\n",
      "np.random.seed(9876789)"
     ],
     "language": "python",
     "metadata": {},
     "outputs": [],
     "prompt_number": 2
    },
    {
     "cell_type": "code",
     "collapsed": false,
     "input": [
      "# create some artificial data\n",
      "nsample = 100\n",
      "x = np.linspace(0, 10, 100)\n",
      "X = np.column_stack((x, x**2))\n",
      "beta = np.array([1, 0.1, 10])\n",
      "e = np.random.normal(size=nsample)"
     ],
     "language": "python",
     "metadata": {},
     "outputs": [],
     "prompt_number": 3
    },
    {
     "cell_type": "code",
     "collapsed": false,
     "input": [
      "# add column of 1s for intercept\n",
      "X = sm.add_constant(X)\n",
      "y = np.dot(X, beta) + e"
     ],
     "language": "python",
     "metadata": {},
     "outputs": [],
     "prompt_number": 4
    },
    {
     "cell_type": "code",
     "collapsed": false,
     "input": [
      "# fit model and print the summary\n",
      "model = sm.OLS(y, X)\n",
      "results = model.fit()\n",
      "print(results.summary())"
     ],
     "language": "python",
     "metadata": {},
     "outputs": [
      {
       "output_type": "stream",
       "stream": "stdout",
       "text": [
        "                            OLS Regression Results                            \n",
        "==============================================================================\n",
        "Dep. Variable:                      y   R-squared:                       1.000\n",
        "Model:                            OLS   Adj. R-squared:                  1.000\n",
        "Method:                 Least Squares   F-statistic:                 4.020e+06\n",
        "Date:                Sun, 16 Nov 2014   Prob (F-statistic):          2.83e-239\n",
        "Time:                        20:59:31   Log-Likelihood:                -146.51\n",
        "No. Observations:                 100   AIC:                             299.0\n",
        "Df Residuals:                      97   BIC:                             306.8\n",
        "Df Model:                           2                                         \n",
        "==============================================================================\n",
        "                 coef    std err          t      P>|t|      [95.0% Conf. Int.]\n",
        "------------------------------------------------------------------------------\n",
        "const          1.3423      0.313      4.292      0.000         0.722     1.963\n",
        "x1            -0.0402      0.145     -0.278      0.781        -0.327     0.247\n",
        "x2            10.0103      0.014    715.745      0.000         9.982    10.038\n",
        "==============================================================================\n",
        "Omnibus:                        2.042   Durbin-Watson:                   2.274\n",
        "Prob(Omnibus):                  0.360   Jarque-Bera (JB):                1.875\n",
        "Skew:                           0.234   Prob(JB):                        0.392\n",
        "Kurtosis:                       2.519   Cond. No.                         144.\n",
        "==============================================================================\n"
       ]
      }
     ],
     "prompt_number": 5
    },
    {
     "cell_type": "code",
     "collapsed": false,
     "input": [
      "# individual results parameters can be accessed\n",
      "print('Parameters: ', results.params)\n",
      "print('R2: ', results.rsquared)"
     ],
     "language": "python",
     "metadata": {},
     "outputs": [
      {
       "output_type": "stream",
       "stream": "stdout",
       "text": [
        "('Parameters: ', array([  1.34233516,  -0.04024948,  10.01025357]))\n",
        "('R2: ', 0.9999879365025871)\n"
       ]
      }
     ],
     "prompt_number": 6
    },
    {
     "cell_type": "code",
     "collapsed": false,
     "input": [
      "# example with non-linear relationship\n",
      "nsample = 50\n",
      "sig = 0.5\n",
      "x = np.linspace(0, 20, nsample)\n",
      "X = np.column_stack((x, np.sin(x), (x-5)**2, np.ones(nsample)))\n",
      "beta = [0.5, 0.5, -0.02, 5.]\n",
      "\n",
      "y_true = np.dot(X, beta)\n",
      "y = y_true + sig * np.random.normal(size=nsample)\n",
      "\n",
      "res = sm.OLS(y, X).fit()\n",
      "print(res.summary())"
     ],
     "language": "python",
     "metadata": {},
     "outputs": [
      {
       "output_type": "stream",
       "stream": "stdout",
       "text": [
        "                            OLS Regression Results                            \n",
        "==============================================================================\n",
        "Dep. Variable:                      y   R-squared:                       0.933\n",
        "Model:                            OLS   Adj. R-squared:                  0.928\n",
        "Method:                 Least Squares   F-statistic:                     211.8\n",
        "Date:                Sun, 16 Nov 2014   Prob (F-statistic):           6.30e-27\n",
        "Time:                        20:59:31   Log-Likelihood:                -34.438\n",
        "No. Observations:                  50   AIC:                             76.88\n",
        "Df Residuals:                      46   BIC:                             84.52\n",
        "Df Model:                           3                                         \n",
        "==============================================================================\n",
        "                 coef    std err          t      P>|t|      [95.0% Conf. Int.]\n",
        "------------------------------------------------------------------------------\n",
        "x1             0.4687      0.026     17.751      0.000         0.416     0.522\n",
        "x2             0.4836      0.104      4.659      0.000         0.275     0.693\n",
        "x3            -0.0174      0.002     -7.507      0.000        -0.022    -0.013\n",
        "const          5.2058      0.171     30.405      0.000         4.861     5.550\n",
        "==============================================================================\n",
        "Omnibus:                        0.655   Durbin-Watson:                   2.896\n",
        "Prob(Omnibus):                  0.721   Jarque-Bera (JB):                0.360\n",
        "Skew:                           0.207   Prob(JB):                        0.835\n",
        "Kurtosis:                       3.026   Cond. No.                         221.\n",
        "==============================================================================\n"
       ]
      }
     ],
     "prompt_number": 7
    },
    {
     "cell_type": "code",
     "collapsed": false,
     "input": [
      "# look at some quantities of interest\n",
      "print('Parameters: ', res.params)\n",
      "print('Standard errors: ', res.bse)\n",
      "print('Predicted values: ', res.predict())"
     ],
     "language": "python",
     "metadata": {},
     "outputs": [
      {
       "output_type": "stream",
       "stream": "stdout",
       "text": [
        "('Parameters: ', array([ 0.46872448,  0.48360119, -0.01740479,  5.20584496]))\n",
        "('Standard errors: ', array([ 0.02640602,  0.10380518,  0.00231847,  0.17121765]))\n",
        "('Predicted values: ', array([  4.77072516,   5.22213464,   5.63620761,   5.98658823,\n",
        "         6.25643234,   6.44117491,   6.54928009,   6.60085051,\n",
        "         6.62432454,   6.6518039 ,   6.71377946,   6.83412169,\n",
        "         7.02615877,   7.29048685,   7.61487206,   7.97626054,\n",
        "         8.34456611,   8.68761335,   8.97642389,   9.18997755,\n",
        "         9.31866582,   9.36587056,   9.34740836,   9.28893189,\n",
        "         9.22171529,   9.17751587,   9.1833565 ,   9.25708583,\n",
        "         9.40444579,   9.61812821,   9.87897556,  10.15912843,\n",
        "        10.42660281,  10.65054491,  10.8063004 ,  10.87946503,\n",
        "        10.86825119,  10.78378163,  10.64826203,  10.49133265,\n",
        "        10.34519853,  10.23933827,  10.19566084,  10.22490593,\n",
        "        10.32487947,  10.48081414,  10.66779556,  10.85485568,\n",
        "        11.01006072,  11.10575781]))\n"
       ]
      }
     ],
     "prompt_number": 8
    },
    {
     "cell_type": "code",
     "collapsed": false,
     "input": [
      "# plot the true relationship vs. the prediction\n",
      "prstd, iv_l, iv_u = wls_prediction_std(res)\n",
      "\n",
      "fig, ax = plt.subplots(figsize=(8,6))\n",
      "\n",
      "ax.plot(x, y, 'o', label=\"data\")\n",
      "ax.plot(x, y_true, 'b-', label=\"True\")\n",
      "ax.plot(x, res.fittedvalues, 'r--.', label=\"OLS\")\n",
      "ax.plot(x, iv_u, 'r--')\n",
      "ax.plot(x, iv_l, 'r--')\n",
      "ax.legend(loc='best')"
     ],
     "language": "python",
     "metadata": {},
     "outputs": [
      {
       "metadata": {},
       "output_type": "pyout",
       "prompt_number": 9,
       "text": [
        "<matplotlib.legend.Legend at 0x1788c9e8>"
       ]
      },
      {
       "metadata": {},
       "output_type": "display_data",
       "png": "[encoded data removed]",
       "text": [
        "<matplotlib.figure.Figure at 0x17772400>"
       ]
      }
     ],
     "prompt_number": 9
    },
    {
     "cell_type": "heading",
     "level": 3,
     "metadata": {},
     "source": [
      "Time-Series Analysis"
     ]
    },
    {
     "cell_type": "code",
     "collapsed": false,
     "input": [
      "from statsmodels.tsa.arima_process import arma_generate_sample"
     ],
     "language": "python",
     "metadata": {},
     "outputs": [],
     "prompt_number": 10
    },
    {
     "cell_type": "code",
     "collapsed": false,
     "input": [
      "# generate some data\n",
      "np.random.seed(12345)\n",
      "arparams = np.array([.75, -.25])\n",
      "maparams = np.array([.65, .35])"
     ],
     "language": "python",
     "metadata": {},
     "outputs": [],
     "prompt_number": 11
    },
    {
     "cell_type": "code",
     "collapsed": false,
     "input": [
      "# set parameters\n",
      "arparams = np.r_[1, -arparams]\n",
      "maparam = np.r_[1, maparams]\n",
      "nobs = 250\n",
      "y = arma_generate_sample(arparams, maparams, nobs)"
     ],
     "language": "python",
     "metadata": {},
     "outputs": [],
     "prompt_number": 12
    },
    {
     "cell_type": "code",
     "collapsed": false,
     "input": [
      "# add some dates information\n",
      "dates = sm.tsa.datetools.dates_from_range('1980m1', length=nobs)\n",
      "y = pd.TimeSeries(y, index=dates)\n",
      "arma_mod = sm.tsa.ARMA(y, order=(2,2))\n",
      "arma_res = arma_mod.fit(trend='nc', disp=-1)"
     ],
     "language": "python",
     "metadata": {},
     "outputs": [],
     "prompt_number": 13
    },
    {
     "cell_type": "code",
     "collapsed": false,
     "input": [
      "print(arma_res.summary())"
     ],
     "language": "python",
     "metadata": {},
     "outputs": [
      {
       "output_type": "stream",
       "stream": "stdout",
       "text": [
        "                              ARMA Model Results                              \n",
        "==============================================================================\n",
        "Dep. Variable:                      y   No. Observations:                  250\n",
        "Model:                     ARMA(2, 2)   Log Likelihood                -245.887\n",
        "Method:                       css-mle   S.D. of innovations              0.645\n",
        "Date:                Sun, 16 Nov 2014   AIC                            501.773\n",
        "Time:                        20:59:32   BIC                            519.381\n",
        "Sample:                    01-31-1980   HQIC                           508.860\n",
        "                         - 10-31-2000                                         \n",
        "==============================================================================\n",
        "                 coef    std err          z      P>|z|      [95.0% Conf. Int.]\n",
        "------------------------------------------------------------------------------\n",
        "ar.L1.y        0.8411      0.403      2.089      0.038         0.052     1.630\n",
        "ar.L2.y       -0.2693      0.247     -1.092      0.276        -0.753     0.214\n",
        "ma.L1.y        0.5352      0.412      1.299      0.195        -0.273     1.343\n",
        "ma.L2.y        0.0157      0.306      0.051      0.959        -0.585     0.616\n",
        "                                    Roots                                    \n",
        "=============================================================================\n",
        "                 Real           Imaginary           Modulus         Frequency\n",
        "-----------------------------------------------------------------------------\n",
        "AR.1            1.5618           -1.1289j            1.9271           -0.0996\n",
        "AR.2            1.5618           +1.1289j            1.9271            0.0996\n",
        "MA.1           -1.9835           +0.0000j            1.9835            0.5000\n",
        "MA.2          -32.1812           +0.0000j           32.1812            0.5000\n",
        "-----------------------------------------------------------------------------\n"
       ]
      }
     ],
     "prompt_number": 14
    }
   ],
   "metadata": {}
  }
 ]
}